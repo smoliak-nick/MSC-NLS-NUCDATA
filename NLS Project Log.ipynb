{
 "cells": [
  {
   "cell_type": "code",
   "execution_count": 6,
   "id": "82c3840b-ee2c-4db7-8870-32175ad13392",
   "metadata": {},
   "outputs": [],
   "source": [
    "## MSC Project: Integrating machine learning techniques into the evaluation of nuclear data."
   ]
  },
  {
   "cell_type": "code",
   "execution_count": null,
   "id": "1b3e0a3f-6937-4954-8512-1dc8b31a24d9",
   "metadata": {},
   "outputs": [],
   "source": [
    "### Project Log"
   ]
  },
  {
   "cell_type": "code",
   "execution_count": null,
   "id": "49ced939-4ac4-463e-aaf2-7af1b5e2747b",
   "metadata": {},
   "outputs": [],
   "source": [
    "### Week 1 (27th May – 2nd June)"
   ]
  },
  {
   "cell_type": "markdown",
   "id": "ac63940a-c2e2-4ff1-9b9c-22b0c298f1e6",
   "metadata": {},
   "source": [
    "##'Missing the first meeting, I proceeded with some pre-reading related to the 'core' papers (see MS teams).  Establishing some initial questions...'"
   ]
  },
  {
   "cell_type": "code",
   "execution_count": null,
   "id": "997cf54c-c608-4709-887d-144e663a5dd8",
   "metadata": {},
   "outputs": [],
   "source": [
    "#### Set tasks: \n",
    "- Post key dates to MS Teams group\n",
    "- Setup public Github and integrate with Jupyter Notebook\n",
    "- Complete nuclear data visualisation and implementation in python"
   ]
  },
  {
   "cell_type": "code",
   "execution_count": null,
   "id": "12a2ca96-383b-4bde-9c73-6a5467bd14d0",
   "metadata": {},
   "outputs": [],
   "source": [
    "#### Completed tasks: \n",
    "- Conducted a review of literature on neutron-induced cross sections to gain a deeper understanding of the current methodologies in nuclear data evaluation.\n",
    "- Started examining how machine learning could augment the process of nuclear data evaluation.\n",
    "- Retrieved neutron capture data for U-233 from the National Nuclear Data Center using their online interface. Successfully replicated the data retrieval process programmatically using Python.\n",
    "- Established a GitHub repository to facilitate version control and access to Jupyter Notebook files for supervisory review and collaboration\n",
    "- Utilized both the online interface and Python for data visualization of specified nuclear data.\n",
    "- Advanced the Python scripts by generalizing them into reusable methods to be available for future work.\n",
    "- Initiated the creation of a detailed project log document. This log is hosted on a publicly accessible GitHub repository, ensuring transparency, supervisory monitoring and availability for external stakeholders.\n",
    "- Began literature assessment of possible areas we could take the project beyond the initial paper replication."
   ]
  },
  {
   "cell_type": "code",
   "execution_count": null,
   "id": "befb07dc-b19d-4e1d-a48e-b95b67531529",
   "metadata": {},
   "outputs": [],
   "source": []
  }
 ],
 "metadata": {
  "kernelspec": {
   "display_name": "Default",
   "language": "python",
   "name": "python3"
  },
  "language_info": {
   "codemirror_mode": {
    "name": "ipython",
    "version": 3
   },
   "file_extension": ".py",
   "mimetype": "text/x-python",
   "name": "python",
   "nbconvert_exporter": "python",
   "pygments_lexer": "ipython3",
   "version": "3.8.17"
  }
 },
 "nbformat": 4,
 "nbformat_minor": 5
}
