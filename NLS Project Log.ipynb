{
 "cells": [
  {
   "cell_type": "markdown",
   "id": "5715ae1e-448d-409f-8cd7-bc9141e2f14a",
   "metadata": {},
   "source": [
    "## MSC Project: Integrating machine learning techniques into the evaluation of nuclear data."
   ]
  },
  {
   "cell_type": "markdown",
   "id": "ff205d4b-8626-4c4b-830b-92e5f63a5ae5",
   "metadata": {},
   "source": [
    "### Project Log"
   ]
  },
  {
   "cell_type": "markdown",
   "id": "987b1366-ac72-4a67-a12f-bed4caf47d37",
   "metadata": {},
   "source": [
    "### Week 1 (27th May – 2nd June)"
   ]
  },
  {
   "cell_type": "markdown",
   "id": "d274d70a-3d6a-47f2-a8de-854d003a1378",
   "metadata": {},
   "source": [
    "- **Missing the first meeting**: Proceeded with some pre-reading related to the 'core' papers (see MS Teams). Established some initial questions.\n",
    "    - **Language surrounding ‘channels’**:\n",
    "        - Clarifying what channel amplitude (probability?) and radius (??) refer to.\n",
    "    - **Optical Model and average R-matrix models**:\n",
    "        - Struggling to wrap my head around this average R-matrix idea.\n",
    "    - **Resolved vs. Unresolved resonance regions**:\n",
    "        - Pertaining to the density of states, does this have to do only with the energy resolution of the experimental apparatus, or is there a fundamental limitation on the extent to which these resonances may be resolved?\n",
    "    - **Defining the boundaries between the regions**:\n",
    "        - This is described qualitatively – the different characteristics of each region. But, given the physics considered is fairly different in each region, how is the exact boundary between the regions determined?\n",
    "    - **Systematic Uncertainties and Data Reduction**:\n",
    "        - Temperature is mentioned as a relevant experimental condition. Does this only affect the instruments by thermal noise, or is there a more fundamental effect as well?\n",
    "        - Thinking the temperature would affect the lattice vibrations in a solid target, would that change things?\n",
    "    - **Confusion about how isotope composition enters (and leaves) the formulas**:\n",
    "        - In these evaluations, aren’t we ever only dealing with one isotope at a time anyways (irradiation of pure isotope in a well-defined flux)?\n",
    "        - Or does this have to do with uncertainty in the composition? Probably missing something simple here.\n",
    "    - **‘Interrogating’ the NNDC**: \n",
    "        - EXFOR vs ENDF.\n",
    "    - **How much does better data help us?**:\n",
    "        - I’m assuming better data allows for better reactivity control, criticality calculations, etc. How much of a difference does this make in the operation of a nuclear reactor?\n",
    "        - Elaborating, does better data ‘just’ allow for better performance, fuel burn up, etc., or is it necessary for achieving Gen IV+ reactor designs?\n",
    "        - For example, is the question ‘How much does a reduction in uncertainty in nuclear cross sections by x% improve reactor performance (by some metric)?’, answerable?\n",
    "    - **Deterministic approaches**:\n",
    "        - I’ve come across a program called Dragon-X. Have you heard of it? Any comments?\n"
   ]
  },
  {
   "cell_type": "markdown",
   "id": "c647c247-0e84-4c72-ac05-59af17be688e",
   "metadata": {},
   "source": [
    "### Week 2"
   ]
  },
  {
   "cell_type": "markdown",
   "id": "5a8485cf-a990-451d-bf44-d2758b6e2b63",
   "metadata": {
    "tags": []
   },
   "source": [
    "- **05/06/2024 Meeting Notes (brief)**\n",
    "\n",
    "- **Future Meetings**:\n",
    "    - Friday 14th, 4pm, then\n",
    "    - Fridays at 2pm from there on (unless otherwise stated)\n",
    "\n",
    "- **Main tasks**:\n",
    "    - What is nuclear data used for?\n",
    "    - Can we replicate the data generation outlined in the paper?\n",
    "    - Proceed with literature review of select reference articles from the primary paper.\n",
    "\n",
    "- **Secondary**:\n",
    "    - Reading into DragonX.\n",
    "\n",
    "- **Me (Nick) specific**:\n",
    "    - Sort out GitHub, confirm compatibility with University workstations.\n"
   ]
  },
  {
   "cell_type": "code",
   "execution_count": null,
   "id": "12a2ca96-383b-4bde-9c73-6a5467bd14d0",
   "metadata": {},
   "outputs": [],
   "source": [
    "#### Completed tasks: \n",
    "- Conducted a review of literature on neutron-induced cross sections to gain a deeper understanding of the current methodologies in nuclear data evaluation.\n",
    "- Started examining how machine learning could augment the process of nuclear data evaluation.\n",
    "- Retrieved neutron capture data for U-233 from the National Nuclear Data Center using their online interface. Successfully replicated the data retrieval process programmatically using Python.\n",
    "- Established a GitHub repository to facilitate version control and access to Jupyter Notebook files for supervisory review and collaboration\n",
    "- Utilized both the online interface and Python for data visualization of specified nuclear data.\n",
    "- Advanced the Python scripts by generalizing them into reusable methods to be available for future work.\n",
    "- Initiated the creation of a detailed project log document. This log is hosted on a publicly accessible GitHub repository, ensuring transparency, supervisory monitoring and availability for external stakeholders.\n",
    "- Began literature assessment of possible areas we could take the project beyond the initial paper replication."
   ]
  },
  {
   "cell_type": "code",
   "execution_count": null,
   "id": "befb07dc-b19d-4e1d-a48e-b95b67531529",
   "metadata": {},
   "outputs": [],
   "source": []
  }
 ],
 "metadata": {
  "kernelspec": {
   "display_name": "Default",
   "language": "python",
   "name": "python3"
  },
  "language_info": {
   "codemirror_mode": {
    "name": "ipython",
    "version": 3
   },
   "file_extension": ".py",
   "mimetype": "text/x-python",
   "name": "python",
   "nbconvert_exporter": "python",
   "pygments_lexer": "ipython3",
   "version": "3.8.17"
  }
 },
 "nbformat": 4,
 "nbformat_minor": 5
}
